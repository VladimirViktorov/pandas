{
 "cells": [
  {
   "cell_type": "markdown",
   "metadata": {},
   "source": [
    "# Маленькое задание на pandas:\n",
    "\n",
    "файл trust.csv - это результаты расчетов одного из наших скриптов,\n",
    "\n",
    "задача кластеризировать эти результаты\n",
    "\n",
    "**BalanceID** - номер балансовой группы, для которой мы проводили расчет (он уникальный)\n",
    "\n",
    "**DateMonth** - месяц, по которому произведен расчет\n",
    "\n",
    "**DateYear** - год, по которому произведен расчет\n",
    "\n",
    "**PercentTransmissionPU** - процент передачи показаний от приборов учета\n",
    "\n",
    "**IndexComplianceForecastPresentUnbalance** - индекс соответствия спрогонозированного и реального небаланса\n",
    "\n",
    "**TrustIndexPSKfiz** - индекс доверия к данным ПСК физ лица\n",
    "\n",
    "**TrustIndexPSKODN** - индекс доверия к данным ПСК ОДН\n",
    "\n",
    "**TrustIndexPSKurik** - индекс доверия к данным ПСК юридические лица\n",
    "\n",
    "**GUID** - технический id (его не трогать)"
   ]
  },
  {
   "cell_type": "code",
   "execution_count": 74,
   "metadata": {},
   "outputs": [],
   "source": [
    "import pandas as pd"
   ]
  },
  {
   "cell_type": "code",
   "execution_count": 75,
   "metadata": {},
   "outputs": [],
   "source": [
    "trust = pd.read_csv('trust.csv')"
   ]
  },
  {
   "cell_type": "code",
   "execution_count": 77,
   "metadata": {},
   "outputs": [],
   "source": [
    "fiz_m100 = trust['TrustIndexPSKfiz'] >= 101.\n",
    "fiz_s100 = trust['TrustIndexPSKfiz'] <= 100.\n",
    "fiz_m75 = trust['TrustIndexPSKfiz'] >= 75.\n",
    "fiz_s75 = trust['TrustIndexPSKfiz'] <= 74.\n",
    "fiz_m50 = trust['TrustIndexPSKfiz'] >= 50.\n",
    "fiz_s50 = trust['TrustIndexPSKfiz'] <= 49.\n",
    "fiz_m0 = trust['TrustIndexPSKfiz'] >= 1.\n",
    "fiz_s0 = trust['TrustIndexPSKfiz'] <= 0.\n",
    "\n",
    "odn_m100 = trust['TrustIndexPSKODN'] >= 101.\n",
    "odn_s100 = trust['TrustIndexPSKODN'] <= 100.\n",
    "odn_m75 = trust['TrustIndexPSKODN'] >= 75.\n",
    "odn_s75 = trust['TrustIndexPSKODN'] <= 74.\n",
    "odn_m50 = trust['TrustIndexPSKODN'] >= 50.\n",
    "odn_s50 = trust['TrustIndexPSKODN'] <= 49.\n",
    "odn_m0 = trust['TrustIndexPSKODN'] >= 1.\n",
    "odn_s0 = trust['TrustIndexPSKODN'] <= 0.\n",
    "\n",
    "ur_m100 = trust['TrustIndexPSKurik'] >= 101.\n",
    "ur_s100 = trust['TrustIndexPSKurik'] <= 100.\n",
    "ur_m75 = trust['TrustIndexPSKurik'] >= 75.\n",
    "ur_s75 = trust['TrustIndexPSKurik'] <= 74.\n",
    "ur_m50 = trust['TrustIndexPSKurik'] >= 50.\n",
    "ur_s50 = trust['TrustIndexPSKurik'] <= 49.\n",
    "ur_m0 = trust['TrustIndexPSKurik'] >= 1.\n",
    "ur_s0 = trust['TrustIndexPSKurik'] <= 0."
   ]
  },
  {
   "cell_type": "markdown",
   "metadata": {},
   "source": [
    "# 1ый алгоритм:\n",
    "\n",
    "**первая группа** - 3 индекса доверия (физ, юрид, ОДН) находятся в интервале от 100 до 75% включительно\n",
    "\n",
    "**вторая** - от 74 до 50% включительно\n",
    "\n",
    "**третья** - от 49 до 1% включительно\n",
    "\n",
    "**четвретая** - все что больше 101% и меньше 0%\n",
    "\n",
    "сохранить результаты"
   ]
  },
  {
   "cell_type": "code",
   "execution_count": 86,
   "metadata": {},
   "outputs": [],
   "source": [
    "first_group = trust[fiz_m75 & fiz_s100 & odn_m75 & odn_s100 & ur_m75 & ur_s100]\n",
    "if len(first_group) != 0:\n",
    "    first_group.to_csv('first_group.csv', index=False)"
   ]
  },
  {
   "cell_type": "code",
   "execution_count": 87,
   "metadata": {},
   "outputs": [],
   "source": [
    "second_group = trust[fiz_m50 & fiz_s75 & odn_m50 & odn_s75 & ur_m50 & ur_s75]\n",
    "if len(second_group) != 0:\n",
    "    second_group.to_csv('second_group.csv', index=False)"
   ]
  },
  {
   "cell_type": "code",
   "execution_count": 88,
   "metadata": {},
   "outputs": [],
   "source": [
    "third_group = trust[fiz_m0 & fiz_s50 & odn_m0 & odn_s50 & ur_m0 & ur_s50]\n",
    "if len(third_group) != 0:\n",
    "    third_group.to_csv('third_group.csv', index=False)"
   ]
  },
  {
   "cell_type": "code",
   "execution_count": 89,
   "metadata": {},
   "outputs": [],
   "source": [
    "fourth_group = trust[(fiz_m100 | fiz_s0) & (odn_m100 | odn_s0) & (ur_m100 | ur_s0)]\n",
    "if len(fourth_group) != 0:\n",
    "    fourth_group.to_csv('fourth_group.csv', index=False)"
   ]
  },
  {
   "cell_type": "markdown",
   "metadata": {},
   "source": [
    "# 2ой алгоритм:\n",
    "\n",
    "Если **хотя бы один из индексов доверия превышал 100% дважды за все время наблюдения** (т.е. во всей выборке), то сохранять **BalanceID**, **месяцы** (в которые было превышение), **значение индексов** (которые повторялись)"
   ]
  },
  {
   "cell_type": "code",
   "execution_count": 90,
   "metadata": {},
   "outputs": [],
   "source": [
    "# Берем значения из таблицы, в которых хотя бы 1 индекс превышал 100\n",
    "non_unique = trust[fiz_m100 | odn_m100 | ur_m100]\n",
    "# Ищем повторяющихся айди\n",
    "non_unique_id = non_unique['BalanceId']\n",
    "non_unique_chels = non_unique_id[non_unique_id.duplicated()]"
   ]
  },
  {
   "cell_type": "code",
   "execution_count": 91,
   "metadata": {},
   "outputs": [
    {
     "name": "stderr",
     "output_type": "stream",
     "text": [
      "<ipython-input-91-d1bd485f8884>:4: SettingWithCopyWarning: \n",
      "A value is trying to be set on a copy of a slice from a DataFrame.\n",
      "Try using .loc[row_indexer,col_indexer] = value instead\n",
      "\n",
      "See the caveats in the documentation: https://pandas.pydata.org/pandas-docs/stable/user_guide/indexing.html#returning-a-view-versus-a-copy\n",
      "  non_unique_table['max_index'] = non_unique_table[['TrustIndexPSKfiz', 'TrustIndexPSKODN', 'TrustIndexPSKurik']].max(axis=1)\n"
     ]
    }
   ],
   "source": [
    "# Получаем таблицу с повторяющимися\n",
    "non_unique_table = non_unique[non_unique_id.isin(non_unique_chels)]\n",
    "# Берем максимальное значение\n",
    "non_unique_table['max_index'] = non_unique_table[['TrustIndexPSKfiz', 'TrustIndexPSKODN', 'TrustIndexPSKurik']].max(axis=1)"
   ]
  },
  {
   "cell_type": "code",
   "execution_count": 92,
   "metadata": {},
   "outputs": [],
   "source": [
    "non_unique_table[['BalanceId', 'DateMonth', 'max_index']].to_csv('task2.csv', index=False)"
   ]
  }
 ],
 "metadata": {
  "kernelspec": {
   "display_name": "Python 3",
   "language": "python",
   "name": "python3"
  },
  "language_info": {
   "codemirror_mode": {
    "name": "ipython",
    "version": 3
   },
   "file_extension": ".py",
   "mimetype": "text/x-python",
   "name": "python",
   "nbconvert_exporter": "python",
   "pygments_lexer": "ipython3",
   "version": "3.8.5"
  }
 },
 "nbformat": 4,
 "nbformat_minor": 4
}
