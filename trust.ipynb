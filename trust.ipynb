{
 "cells": [
  {
   "cell_type": "markdown",
   "metadata": {},
   "source": [
    "# Маленькое задание на pandas:\n",
    "\n",
    "файл trust.csv - это результаты расчетов одного из наших скриптов,\n",
    "\n",
    "задача кластеризировать эти результаты\n",
    "\n",
    "**BalanceID** - номер балансовой группы, для которой мы проводили расчет (он уникальный)\n",
    "\n",
    "**DateMonth** - месяц, по которому произведен расчет\n",
    "\n",
    "**DateYear** - год, по которому произведен расчет\n",
    "\n",
    "**PercentTransmissionPU** - процент передачи показаний от приборов учета\n",
    "\n",
    "**IndexComplianceForecastPresentUnbalance** - индекс соответствия спрогонозированного и реального небаланса\n",
    "\n",
    "**TrustIndexPSKfiz** - индекс доверия к данным ПСК физ лица\n",
    "\n",
    "**TrustIndexPSKODN** - индекс доверия к данным ПСК ОДН\n",
    "\n",
    "**TrustIndexPSKurik** - индекс доверия к данным ПСК юридические лица\n",
    "\n",
    "**GUID** - технический id (его не трогать)"
   ]
  },
  {
   "cell_type": "code",
   "execution_count": 75,
   "metadata": {},
   "outputs": [],
   "source": [
    "import pandas as pd"
   ]
  },
  {
   "cell_type": "code",
   "execution_count": 76,
   "metadata": {},
   "outputs": [],
   "source": [
    "trust = pd.read_csv('trust.csv')"
   ]
  },
  {
   "cell_type": "markdown",
   "metadata": {},
   "source": [
    "# 1ый алгоритм:\n",
    "\n",
    "**первая группа** - 3 индекса доверия (физ, юрид, ОДН) находятся в интервале от 100 до 75% включительно\n",
    "\n",
    "**вторая** - от 74 до 50% включительно\n",
    "\n",
    "**третья** - от 49 до 1% включительно\n",
    "\n",
    "**четвретая** - все что больше 101% и меньше 0%\n",
    "\n",
    "сохранить результаты"
   ]
  },
  {
   "cell_type": "code",
   "execution_count": 89,
   "metadata": {},
   "outputs": [],
   "source": [
    "first_group = trust[(trust['TrustIndexPSKfiz'] >= 75.) & (trust['TrustIndexPSKfiz'] <= 100.) & (trust['TrustIndexPSKODN'] >= 75.) & (trust['TrustIndexPSKODN'] <= 100.) & (trust['TrustIndexPSKurik'] >= 75.) & (trust['TrustIndexPSKurik'] <= 100.)]\n",
    "if len(first_group) != 0:\n",
    "    first_group.to_csv('first_group.csv', index=False)"
   ]
  },
  {
   "cell_type": "code",
   "execution_count": 90,
   "metadata": {},
   "outputs": [],
   "source": [
    "second_group = trust[(trust['TrustIndexPSKfiz'] >= 50.) & (trust['TrustIndexPSKfiz'] <= 74.) & (trust['TrustIndexPSKODN'] >= 50.) & (trust['TrustIndexPSKODN'] <= 74.) & (trust['TrustIndexPSKurik'] >= 50.) & (trust['TrustIndexPSKurik'] <= 74.)]\n",
    "if len(second_group) != 0:\n",
    "    second_group.to_csv('second_group.csv', index=False)"
   ]
  },
  {
   "cell_type": "code",
   "execution_count": 91,
   "metadata": {},
   "outputs": [],
   "source": [
    "third_group = trust[(trust['TrustIndexPSKfiz'] >= 1.) & (trust['TrustIndexPSKfiz'] <= 49.) & (trust['TrustIndexPSKODN'] >= 1.) & (trust['TrustIndexPSKODN'] <= 49.) & (trust['TrustIndexPSKurik'] >= 1.) & (trust['TrustIndexPSKurik'] <= 49.)]\n",
    "if len(third_group) != 0:\n",
    "    third_group.to_csv('third_group.csv', index=False)"
   ]
  },
  {
   "cell_type": "code",
   "execution_count": 92,
   "metadata": {},
   "outputs": [],
   "source": [
    "fourth_group = trust[((trust['TrustIndexPSKfiz'] >= 101.) | (trust['TrustIndexPSKfiz'] <= 0.)) & ((trust['TrustIndexPSKODN'] >= 101.) | (trust['TrustIndexPSKODN'] <= 0.)) & ((trust['TrustIndexPSKurik'] >= 101.) | (trust['TrustIndexPSKurik'] <= 0.))]\n",
    "if len(fourth_group) != 0:\n",
    "    fourth_group.to_csv('fourth_group.csv', index=False)"
   ]
  },
  {
   "cell_type": "markdown",
   "metadata": {},
   "source": [
    "# 2ой алгоритм:\n",
    "\n",
    "Если **хотя бы один из индексов доверия превышал 100% дважды за все время наблюдения** (т.е. во всей выборке), то сохранять **BalanceID**, **месяцы** (в которые было превышение), **значение индексов** (которые повторялись)"
   ]
  },
  {
   "cell_type": "code",
   "execution_count": 83,
   "metadata": {},
   "outputs": [],
   "source": [
    "#Создаю словарьи из индексов превышающие значение 101\n",
    "d_fiz = {}\n",
    "d_odn = {}\n",
    "d_ur = {}\n",
    "for i in range(len(trust)):\n",
    "    if trust.TrustIndexPSKfiz[i] > 101 and trust.TrustIndexPSKfiz[i] in d_fiz.keys():\n",
    "        d_fiz[trust.TrustIndexPSKfiz[i]] += 1\n",
    "    elif trust.TrustIndexPSKfiz[i] > 101:\n",
    "        d_fiz.update({trust.TrustIndexPSKfiz[i]: 1})\n",
    "    if trust.TrustIndexPSKODN[i] > 101 and trust.TrustIndexPSKODN[i] in d_odn.keys():\n",
    "        d_odn[trust.TrustIndexPSKODN[i]] += 1\n",
    "    elif trust.TrustIndexPSKODN[i] > 101:\n",
    "        d_odn.update({trust.TrustIndexPSKODN[i]: 1})\n",
    "    if trust.TrustIndexPSKurik[i] > 101 and trust.TrustIndexPSKurik[i] in d_ur.keys():\n",
    "        d_ur[trust.TrustIndexPSKurik[i]] += 1\n",
    "    elif trust.TrustIndexPSKurik[i] > 101:\n",
    "        d_ur.update({trust.TrustIndexPSKurik[i]: 1})"
   ]
  },
  {
   "cell_type": "code",
   "execution_count": 93,
   "metadata": {},
   "outputs": [],
   "source": [
    "ans = pd.DataFrame()"
   ]
  },
  {
   "cell_type": "code",
   "execution_count": 94,
   "metadata": {},
   "outputs": [],
   "source": [
    "#Добавляем в новую таблицу BalanceId, DateMonth, Index, когда значение в словарях больше 1 (когда больше 1, значит \n",
    "#эти индексы повторялись)\n",
    "for i in range(len(trust)):\n",
    "    if trust.TrustIndexPSKfiz[i] in d_fiz.keys() and d_fiz[trust.TrustIndexPSKfiz[i]] > 1:\n",
    "        line = {'BalanceId': trust.BalanceId[i], 'DateMonth': trust.DateMonth[i], 'Index': trust.TrustIndexPSKfiz[i]}\n",
    "        ans = ans.append(line, ignore_index=True)\n",
    "    if trust.TrustIndexPSKODN[i] in d_odn.keys() and d_odn[trust.TrustIndexPSKODN[i]] > 1:\n",
    "        line = {'BalanceId': trust.BalanceId[i], 'DateMonth': trust.DateMonth[i], 'Index': trust.TrustIndexPSKODN[i]}\n",
    "        ans = ans.append(line, ignore_index=True)\n",
    "    if trust.TrustIndexPSKurik[i] in d_ur.keys() and d_ur[trust.TrustIndexPSKurik[i]] > 1:\n",
    "        line = {'BalanceId': trust.BalanceId[i], 'DateMonth': trust.DateMonth[i], 'Index': trust.TrustIndexPSKurik[i]}\n",
    "        ans = ans.append(line, ignore_index=True)"
   ]
  },
  {
   "cell_type": "code",
   "execution_count": 95,
   "metadata": {},
   "outputs": [],
   "source": [
    "#Сортирую словарь по индексам, чтобы легче было воспринимать повторяющиеся значения, далее записываю таблицу в файл\n",
    "ans = ans.sort_values('Index')\n",
    "ans.reset_index(drop=True, inplace=True)\n",
    "ans.to_csv('task2.csv', index=False)"
   ]
  },
  {
   "cell_type": "code",
   "execution_count": 96,
   "metadata": {},
   "outputs": [
    {
     "data": {
      "text/html": [
       "<div>\n",
       "<style scoped>\n",
       "    .dataframe tbody tr th:only-of-type {\n",
       "        vertical-align: middle;\n",
       "    }\n",
       "\n",
       "    .dataframe tbody tr th {\n",
       "        vertical-align: top;\n",
       "    }\n",
       "\n",
       "    .dataframe thead th {\n",
       "        text-align: right;\n",
       "    }\n",
       "</style>\n",
       "<table border=\"1\" class=\"dataframe\">\n",
       "  <thead>\n",
       "    <tr style=\"text-align: right;\">\n",
       "      <th></th>\n",
       "      <th>BalanceId</th>\n",
       "      <th>DateMonth</th>\n",
       "      <th>Index</th>\n",
       "    </tr>\n",
       "  </thead>\n",
       "  <tbody>\n",
       "    <tr>\n",
       "      <th>0</th>\n",
       "      <td>2917.0</td>\n",
       "      <td>9.0</td>\n",
       "      <td>104.0</td>\n",
       "    </tr>\n",
       "    <tr>\n",
       "      <th>1</th>\n",
       "      <td>3254.0</td>\n",
       "      <td>9.0</td>\n",
       "      <td>104.0</td>\n",
       "    </tr>\n",
       "    <tr>\n",
       "      <th>2</th>\n",
       "      <td>2433.0</td>\n",
       "      <td>8.0</td>\n",
       "      <td>105.5</td>\n",
       "    </tr>\n",
       "    <tr>\n",
       "      <th>3</th>\n",
       "      <td>1278.0</td>\n",
       "      <td>8.0</td>\n",
       "      <td>105.5</td>\n",
       "    </tr>\n",
       "    <tr>\n",
       "      <th>4</th>\n",
       "      <td>3409.0</td>\n",
       "      <td>8.0</td>\n",
       "      <td>106.0</td>\n",
       "    </tr>\n",
       "    <tr>\n",
       "      <th>...</th>\n",
       "      <td>...</td>\n",
       "      <td>...</td>\n",
       "      <td>...</td>\n",
       "    </tr>\n",
       "    <tr>\n",
       "      <th>745</th>\n",
       "      <td>3474.0</td>\n",
       "      <td>8.0</td>\n",
       "      <td>1741.0</td>\n",
       "    </tr>\n",
       "    <tr>\n",
       "      <th>746</th>\n",
       "      <td>1308.0</td>\n",
       "      <td>8.0</td>\n",
       "      <td>1741.0</td>\n",
       "    </tr>\n",
       "    <tr>\n",
       "      <th>747</th>\n",
       "      <td>1703.0</td>\n",
       "      <td>8.0</td>\n",
       "      <td>3710.5</td>\n",
       "    </tr>\n",
       "    <tr>\n",
       "      <th>748</th>\n",
       "      <td>3242.0</td>\n",
       "      <td>8.0</td>\n",
       "      <td>3710.5</td>\n",
       "    </tr>\n",
       "    <tr>\n",
       "      <th>749</th>\n",
       "      <td>2937.0</td>\n",
       "      <td>8.0</td>\n",
       "      <td>3710.5</td>\n",
       "    </tr>\n",
       "  </tbody>\n",
       "</table>\n",
       "<p>750 rows × 3 columns</p>\n",
       "</div>"
      ],
      "text/plain": [
       "     BalanceId  DateMonth   Index\n",
       "0       2917.0        9.0   104.0\n",
       "1       3254.0        9.0   104.0\n",
       "2       2433.0        8.0   105.5\n",
       "3       1278.0        8.0   105.5\n",
       "4       3409.0        8.0   106.0\n",
       "..         ...        ...     ...\n",
       "745     3474.0        8.0  1741.0\n",
       "746     1308.0        8.0  1741.0\n",
       "747     1703.0        8.0  3710.5\n",
       "748     3242.0        8.0  3710.5\n",
       "749     2937.0        8.0  3710.5\n",
       "\n",
       "[750 rows x 3 columns]"
      ]
     },
     "execution_count": 96,
     "metadata": {},
     "output_type": "execute_result"
    }
   ],
   "source": [
    "ans"
   ]
  }
 ],
 "metadata": {
  "kernelspec": {
   "display_name": "Python 3",
   "language": "python",
   "name": "python3"
  },
  "language_info": {
   "codemirror_mode": {
    "name": "ipython",
    "version": 3
   },
   "file_extension": ".py",
   "mimetype": "text/x-python",
   "name": "python",
   "nbconvert_exporter": "python",
   "pygments_lexer": "ipython3",
   "version": "3.8.5"
  }
 },
 "nbformat": 4,
 "nbformat_minor": 4
}
